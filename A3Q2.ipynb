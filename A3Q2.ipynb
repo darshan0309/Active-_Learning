{
  "nbformat": 4,
  "nbformat_minor": 0,
  "metadata": {
    "colab": {
      "provenance": [],
      "authorship_tag": "ABX9TyMM6vMRZNvJzT0C8F5MvK0C",
      "include_colab_link": true
    },
    "kernelspec": {
      "name": "python3",
      "display_name": "Python 3"
    },
    "language_info": {
      "name": "python"
    }
  },
  "cells": [
    {
      "cell_type": "markdown",
      "metadata": {
        "id": "view-in-github",
        "colab_type": "text"
      },
      "source": [
        "<a href=\"https://colab.research.google.com/github/darshan0309/Active-_Learning/blob/main/A3Q2.ipynb\" target=\"_parent\"><img src=\"https://colab.research.google.com/assets/colab-badge.svg\" alt=\"Open In Colab\"/></a>"
      ]
    },
    {
      "cell_type": "code",
      "execution_count": null,
      "metadata": {
        "id": "8PAmuZJx8d0S"
      },
      "outputs": [],
      "source": [
        "import numpy as np\n",
        "from tensorflow.keras.models import load_model\n",
        "from tensorflow.keras.datasets import cifar10\n",
        "from sklearn.neighbors import NearestNeighbors\n",
        "from sklearn.metrics.pairwise import cosine_similarity\n",
        "from sklearn.preprocessing import normalize\n",
        "\n",
        "\n",
        "(_, _), (x_test, _) = cifar10.load_data()\n",
        "x_test = x_test / 255.0\n",
        "\n",
        "model = load_model('cifar10_model.h5')\n",
        "\n",
        "\n",
        "def average_cosine_similarity(samples, neighbors):\n",
        "    cos_sim = cosine_similarity(samples, neighbors)\n",
        "    avg_cos_sim = np.mean(cos_sim, axis=1)\n",
        "    return avg_cos_sim\n",
        "\n",
        "\n",
        "def l2_norm_diversity(samples, neighbors):\n",
        "    l2_norm = np.linalg.norm(samples - neighbors, axis=1)\n",
        "    avg_l2_norm = np.mean(l2_norm)\n",
        "    return avg_l2_norm\n",
        "\n",
        "\n",
        "predictions = model.predict(x_test)\n",
        "\n",
        "num_samples = 100\n",
        "subset_samples = x_test[:num_samples]\n",
        "subset_predictions = predictions[:num_samples]\n",
        "\n",
        "\n",
        "k_neighbors = 5\n",
        "knn = NearestNeighbors(n_neighbors=k_neighbors)\n",
        "knn.fit(subset_samples)\n",
        "neighbors_indices = knn.kneighbors(subset_samples, return_distance=False)\n",
        "\n",
        "cosine_diversity = average_cosine_similarity(subset_samples.reshape(num_samples, -1), subset_samples[neighbors_indices].reshape(-1, 32*32*3))\n",
        "l2_norm_diversity_value = l2_norm_diversity(subset_samples.reshape(num_samples, -1), subset_samples[neighbors_indices].reshape(-1, 32*32*3))\n",
        "\n",
        "\n",
        "print(\"Average Cosine Similarity Diversity:\", cosine_diversity)\n",
        "print(\"L2 Norm Diversity:\", l2_norm_diversity_value)\n"
      ]
    }
  ]
}