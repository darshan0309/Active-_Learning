{
  "nbformat": 4,
  "nbformat_minor": 0,
  "metadata": {
    "colab": {
      "provenance": [],
      "authorship_tag": "ABX9TyNOElT0lMIK+C8Kmo8YTDFx",
      "include_colab_link": true
    },
    "kernelspec": {
      "name": "python3",
      "display_name": "Python 3"
    },
    "language_info": {
      "name": "python"
    }
  },
  "cells": [
    {
      "cell_type": "markdown",
      "metadata": {
        "id": "view-in-github",
        "colab_type": "text"
      },
      "source": [
        "<a href=\"https://colab.research.google.com/github/darshan0309/Active-_Learning/blob/main/A3Q1.ipynb\" target=\"_parent\"><img src=\"https://colab.research.google.com/assets/colab-badge.svg\" alt=\"Open In Colab\"/></a>"
      ]
    },
    {
      "cell_type": "code",
      "execution_count": null,
      "metadata": {
        "id": "796lyLZI7apO"
      },
      "outputs": [],
      "source": [
        "import numpy as np\n",
        "from tensorflow.keras.models import load_model\n",
        "from tensorflow.keras.datasets import cifar10\n",
        "from sklearn.neighbors import NearestNeighbors\n",
        "from scipy.stats import entropy\n",
        "\n",
        "(_, _), (x_test, _) = cifar10.load_data()\n",
        "x_test = x_test / 255.0\n",
        "\n",
        "model = load_model('cifar10_model.h5')\n",
        "\n",
        "\n",
        "def kl_divergence(p, q):\n",
        "    return np.sum(np.where(p != 0, p * np.log(p / q), 0))\n",
        "\n",
        "\n",
        "def least_confidence(predictions):\n",
        "    return 1 - np.max(predictions, axis=1)\n",
        "\n",
        "def prediction_entropy(predictions):\n",
        "    return entropy(predictions.T)\n",
        "\n",
        "def margin_sampling(predictions):\n",
        "    sorted_probs = np.sort(predictions, axis=1)\n",
        "    return sorted_probs[:, -1] - sorted_probs[:, -2]\n",
        "\n",
        "def contrastive_active_learning(predictions, k=5):\n",
        "    knn = NearestNeighbors(n_neighbors=k)\n",
        "    knn.fit(predictions)\n",
        "    distances, _ = knn.kneighbors(predictions)\n",
        "    return np.mean(distances[:, 1:], axis=1)\n",
        "\n",
        "\n",
        "predictions = model.predict(x_test)\n",
        "\n",
        "\n",
        "lc_uncertainty = least_confidence(predictions)\n",
        "pe_uncertainty = prediction_entropy(predictions)\n",
        "ms_uncertainty = margin_sampling(predictions)\n",
        "cal_uncertainty = contrastive_active_learning(predictions)\n",
        "\n",
        "\n",
        "print(\"Least Confidence Uncertainty:\", lc_uncertainty)\n",
        "print(\"Prediction Entropy Uncertainty:\", pe_uncertainty)\n",
        "print(\"Margin Sampling Uncertainty:\", ms_uncertainty)\n",
        "print(\"Contrastive Active Learning Uncertainty:\", cal_uncertainty)\n"
      ]
    }
  ]
}